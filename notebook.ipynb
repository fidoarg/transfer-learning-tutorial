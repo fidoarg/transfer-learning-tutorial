{
 "cells": [
  {
   "cell_type": "code",
   "execution_count": 1,
   "metadata": {},
   "outputs": [],
   "source": [
    "import os\n",
    "import sys"
   ]
  },
  {
   "cell_type": "code",
   "execution_count": 2,
   "metadata": {},
   "outputs": [
    {
     "data": {
      "text/plain": [
       "'https://storage.googleapis.com/mledu-datasets/cats_and_dogs_filtered.zip'"
      ]
     },
     "execution_count": 2,
     "metadata": {},
     "output_type": "execute_result"
    }
   ],
   "source": [
    "os.getenv(\"_URL\")"
   ]
  },
  {
   "cell_type": "code",
   "execution_count": 3,
   "metadata": {},
   "outputs": [
    {
     "data": {
      "text/plain": [
       "['/Users/fidoaragon/Documents/transfer_learning_tutorial',\n",
       " '/Users/fidoaragon/opt/anaconda3/lib/python39.zip',\n",
       " '/Users/fidoaragon/opt/anaconda3/lib/python3.9',\n",
       " '/Users/fidoaragon/opt/anaconda3/lib/python3.9/lib-dynload',\n",
       " '',\n",
       " '/Users/fidoaragon/Documents/transfer_learning_tutorial/env/lib/python3.9/site-packages']"
      ]
     },
     "execution_count": 3,
     "metadata": {},
     "output_type": "execute_result"
    }
   ],
   "source": [
    "sys.path"
   ]
  }
 ],
 "metadata": {
  "kernelspec": {
   "display_name": "Python 3 (ipykernel)",
   "language": "python",
   "name": "python3"
  },
  "language_info": {
   "codemirror_mode": {
    "name": "ipython",
    "version": 3
   },
   "file_extension": ".py",
   "mimetype": "text/x-python",
   "name": "python",
   "nbconvert_exporter": "python",
   "pygments_lexer": "ipython3",
   "version": "3.9.7"
  },
  "vscode": {
   "interpreter": {
    "hash": "11a0f9265965da9b23a99f94fb442471f69d31d3efdd73faf759c970b98f4871"
   }
  }
 },
 "nbformat": 4,
 "nbformat_minor": 2
}
